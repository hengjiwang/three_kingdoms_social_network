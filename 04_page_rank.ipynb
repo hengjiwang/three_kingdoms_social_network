{
 "cells": [
  {
   "cell_type": "code",
   "execution_count": 162,
   "metadata": {
    "ExecuteTime": {
     "end_time": "2019-09-30T05:21:37.578963Z",
     "start_time": "2019-09-30T05:21:37.570389Z"
    }
   },
   "outputs": [],
   "source": [
    "from operator import add\n",
    "from pyspark import SparkConf, SparkContext\n",
    "import numpy as np\n",
    "import csv"
   ]
  },
  {
   "cell_type": "code",
   "execution_count": 163,
   "metadata": {
    "ExecuteTime": {
     "end_time": "2019-09-30T05:21:38.134984Z",
     "start_time": "2019-09-30T05:21:38.041383Z"
    }
   },
   "outputs": [],
   "source": [
    "conf = SparkConf()\n",
    "sc = SparkContext(conf=conf)\n",
    "fl = './Data/graph_picked.csv'\n",
    "beta = 0.8 #usually 0.8-0.9\n",
    "iterations = 40"
   ]
  },
  {
   "cell_type": "code",
   "execution_count": 164,
   "metadata": {
    "ExecuteTime": {
     "end_time": "2019-09-30T05:21:39.142469Z",
     "start_time": "2019-09-30T05:21:38.453261Z"
    }
   },
   "outputs": [],
   "source": [
    "rdd = sc.textFile(fl).filter(lambda x: not x.startswith('p1')).map( #remove title\n",
    "    lambda x: tuple(map(int,x.split(','))))         #(source, destination,counts)\n",
    "#unqiue id in the rdd\n",
    "container = set(rdd.flatMap(lambda x: (x[0],x[1])).collect())\n",
    "n = len(container)\n",
    "# a dictionary of the degree for a person\n",
    "degree = rdd.map(lambda x: (x[0],x[2])).groupByKey().mapValues(sum).sortBy(\n",
    "        lambda x: x[0]).collectAsMap()\n",
    "#graph:(destination,(source,probability of s->d))\n",
    "graph = rdd.map(lambda x: (x[1],(x[0],x[2]/degree[x[0]])))"
   ]
  },
  {
   "cell_type": "code",
   "execution_count": 165,
   "metadata": {
    "ExecuteTime": {
     "end_time": "2019-09-30T05:21:41.673200Z",
     "start_time": "2019-09-30T05:21:39.218954Z"
    }
   },
   "outputs": [],
   "source": [
    "#start iteration r = beta*M*r+(1-beta)/n\n",
    "r = {x:1/n for x in container}\n",
    "for i in range(iterations):\n",
    "    newr = graph.mapValues(lambda x: beta*x[1]*r[x[0]]).reduceByKey(\n",
    "            add).mapValues(lambda x: x+(1-beta)/n).collectAsMap()\n",
    "    r = newr\n",
    "rank = sorted([(x,r[x]) for x in r],key=lambda x: -x[1])\n",
    "with open(\"Data/pagerank_picked.csv\",\"w\") as csvfile:\n",
    "    wrcsv = csv.writer(csvfile)\n",
    "    wrcsv.writerow(['id','score'])\n",
    "    wrcsv.writerows(rank)"
   ]
  },
  {
   "cell_type": "code",
   "execution_count": 166,
   "metadata": {
    "ExecuteTime": {
     "end_time": "2019-09-30T05:21:41.940564Z",
     "start_time": "2019-09-30T05:21:41.740809Z"
    }
   },
   "outputs": [],
   "source": [
    "edges = graph.map(lambda x: ((min(x[0],x[1][0]),max(x[0],x[1][0])),x[1][1]*r[x[1][0]])).groupByKey().map(\n",
    "                  lambda x: (x[0][0],x[0][1],sum(x[1]))).sortBy(lambda x:x[0]).collect()\n",
    "with open(\"Data/ugraph_pagerank_picked.csv\",\"w\") as csvfile:\n",
    "    wrcsv = csv.writer(csvfile)\n",
    "    wrcsv.writerow(['p1','p2','edge_score'])\n",
    "    wrcsv.writerows(edges)"
   ]
  },
  {
   "cell_type": "code",
   "execution_count": 167,
   "metadata": {
    "ExecuteTime": {
     "end_time": "2019-09-30T05:21:42.933526Z",
     "start_time": "2019-09-30T05:21:42.067938Z"
    },
    "scrolled": true
   },
   "outputs": [],
   "source": [
    "sc.stop()"
   ]
  }
 ],
 "metadata": {
  "kernelspec": {
   "display_name": "Python 3",
   "language": "python",
   "name": "python3"
  },
  "language_info": {
   "codemirror_mode": {
    "name": "ipython",
    "version": 3
   },
   "file_extension": ".py",
   "mimetype": "text/x-python",
   "name": "python",
   "nbconvert_exporter": "python",
   "pygments_lexer": "ipython3",
   "version": "3.6.8"
  },
  "varInspector": {
   "cols": {
    "lenName": 16,
    "lenType": 16,
    "lenVar": 40
   },
   "kernels_config": {
    "python": {
     "delete_cmd_postfix": "",
     "delete_cmd_prefix": "del ",
     "library": "var_list.py",
     "varRefreshCmd": "print(var_dic_list())"
    },
    "r": {
     "delete_cmd_postfix": ") ",
     "delete_cmd_prefix": "rm(",
     "library": "var_list.r",
     "varRefreshCmd": "cat(var_dic_list()) "
    }
   },
   "types_to_exclude": [
    "module",
    "function",
    "builtin_function_or_method",
    "instance",
    "_Feature"
   ],
   "window_display": false
  }
 },
 "nbformat": 4,
 "nbformat_minor": 2
}
