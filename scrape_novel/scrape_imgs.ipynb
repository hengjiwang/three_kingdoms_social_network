{
 "cells": [
  {
   "cell_type": "code",
   "execution_count": 89,
   "metadata": {},
   "outputs": [],
   "source": [
    "from urllib.request import urlopen, urlretrieve\n",
    "from bs4 import BeautifulSoup\n",
    "from collections import defaultdict\n",
    "import regex as re\n",
    "from chapter_parser import parse_chapter, load_page, load_table\n",
    "import pandas as pd\n",
    "import sys"
   ]
  },
  {
   "cell_type": "code",
   "execution_count": 90,
   "metadata": {},
   "outputs": [],
   "source": [
    "def load_urls(base_url):\n",
    "    html = urlopen(base_url)\n",
    "    bs = BeautifulSoup(html.read(), 'html.parser')\n",
    "    nav = bs.find(\"div\", {\"id\":\"w\"}).find_all(\"p\")[2]\n",
    "    links = nav.find_all(\"a\")\n",
    "    rel_urls = []\n",
    "    for link in links:\n",
    "        rel_urls.append(link['href'])\n",
    "    rel_urls = rel_urls[:-3]\n",
    "    urls = [base_url]\n",
    "    for rel_url in rel_urls:\n",
    "        urls.append(base_url+rel_url)      \n",
    "    return urls"
   ]
  },
  {
   "cell_type": "code",
   "execution_count": 91,
   "metadata": {},
   "outputs": [],
   "source": [
    "def crawl_avatars(url):\n",
    "    base = url.split('/11/')[0]\n",
    "    imgs = []\n",
    "    html = urlopen(url)\n",
    "    bs = BeautifulSoup(html.read(), 'html.parser')\n",
    "    officers = bs.find_all('div', {'class':'officers'})\n",
    "    for officer in officers:\n",
    "        links = officer.find_all('a')\n",
    "        for link in links:\n",
    "            img = link.img['src']\n",
    "            name = link.img['alt']\n",
    "            name = name.split(' ')\n",
    "            n = len(name)\n",
    "            curr_name = name[0]\n",
    "            name = '-'.join([x.lower() for x in name])\n",
    "            img_url = base + img           \n",
    "            urlretrieve(img_url, './image/' + name + '.jpg')"
   ]
  },
  {
   "cell_type": "code",
   "execution_count": 92,
   "metadata": {},
   "outputs": [],
   "source": [
    "if __name__ == '__main__':\n",
    "    urls = load_urls('http://kongming.net/11/portraits/')\n",
    "    for url in urls:\n",
    "        scrape_avatars(url)"
   ]
  },
  {
   "cell_type": "code",
   "execution_count": null,
   "metadata": {},
   "outputs": [],
   "source": []
  }
 ],
 "metadata": {
  "kernelspec": {
   "display_name": "Python 3",
   "language": "python",
   "name": "python3"
  },
  "language_info": {
   "codemirror_mode": {
    "name": "ipython",
    "version": 3
   },
   "file_extension": ".py",
   "mimetype": "text/x-python",
   "name": "python",
   "nbconvert_exporter": "python",
   "pygments_lexer": "ipython3",
   "version": "3.7.3"
  }
 },
 "nbformat": 4,
 "nbformat_minor": 2
}
